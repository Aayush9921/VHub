{
  "cells": [
    {
      "cell_type": "markdown",
      "metadata": {
        "id": "qbKL571Zu6yx"
      },
      "source": [
        "## VHUB Data Analytics Assignment\n",
        "\n",
        "1. How many job titles are present for each domain?\n",
        "2. What is the average projected growth across all job titles?\n",
        "3. Find the top 5 job titles with the highest projected growth by 2030.\n",
        "4. Which domain has the highest average projected growth by 2030?\n",
        "5. What other interesting insights can you derive from the dataset?"
      ]
    },
    {
      "cell_type": "code",
      "execution_count": null,
      "metadata": {
        "id": "5x9Y1Jnru6y0"
      },
      "outputs": [],
      "source": [
        "import numpy as np\n",
        "import pandas as pd\n",
        "import seaborn as sns\n",
        "import matplotlib.pyplot as plt"
      ]
    },
    {
      "cell_type": "code",
      "execution_count": null,
      "metadata": {
        "id": "T7q7haMmu6y5",
        "outputId": "46f1008f-57f1-4e0f-fffb-8249583671ce"
      },
      "outputs": [
        {
          "data": {
            "text/html": [
              "<div>\n",
              "<style scoped>\n",
              "    .dataframe tbody tr th:only-of-type {\n",
              "        vertical-align: middle;\n",
              "    }\n",
              "\n",
              "    .dataframe tbody tr th {\n",
              "        vertical-align: top;\n",
              "    }\n",
              "\n",
              "    .dataframe thead th {\n",
              "        text-align: right;\n",
              "    }\n",
              "</style>\n",
              "<table border=\"1\" class=\"dataframe\">\n",
              "  <thead>\n",
              "    <tr style=\"text-align: right;\">\n",
              "      <th></th>\n",
              "      <th>Domain</th>\n",
              "      <th>Job Title</th>\n",
              "      <th>Projected Growth by 2030</th>\n",
              "    </tr>\n",
              "  </thead>\n",
              "  <tbody>\n",
              "    <tr>\n",
              "      <th>0</th>\n",
              "      <td>Augmented Reality (AR)</td>\n",
              "      <td>Engineer</td>\n",
              "      <td>77%</td>\n",
              "    </tr>\n",
              "    <tr>\n",
              "      <th>1</th>\n",
              "      <td>5G Networks</td>\n",
              "      <td>Developer</td>\n",
              "      <td>70%</td>\n",
              "    </tr>\n",
              "    <tr>\n",
              "      <th>2</th>\n",
              "      <td>Cybersecurity</td>\n",
              "      <td>Engineer</td>\n",
              "      <td>36%</td>\n",
              "    </tr>\n",
              "    <tr>\n",
              "      <th>3</th>\n",
              "      <td>Internet of Things (IoT)</td>\n",
              "      <td>Consultant</td>\n",
              "      <td>138%</td>\n",
              "    </tr>\n",
              "    <tr>\n",
              "      <th>4</th>\n",
              "      <td>Cybersecurity</td>\n",
              "      <td>Analyst</td>\n",
              "      <td>86%</td>\n",
              "    </tr>\n",
              "  </tbody>\n",
              "</table>\n",
              "</div>"
            ],
            "text/plain": [
              "                     Domain   Job Title Projected Growth by 2030\n",
              "0    Augmented Reality (AR)    Engineer                      77%\n",
              "1               5G Networks   Developer                      70%\n",
              "2             Cybersecurity    Engineer                      36%\n",
              "3  Internet of Things (IoT)  Consultant                     138%\n",
              "4             Cybersecurity     Analyst                      86%"
            ]
          },
          "execution_count": 2,
          "metadata": {},
          "output_type": "execute_result"
        }
      ],
      "source": [
        "data=pd.read_csv(\"it_job_prediction.csv\")\n",
        "data.head()"
      ]
    },
    {
      "cell_type": "code",
      "execution_count": null,
      "metadata": {
        "id": "VpTT0NREu6y9",
        "outputId": "aa4578f8-6766-4250-d6a9-4377a8a9230b"
      },
      "outputs": [
        {
          "data": {
            "text/plain": [
              "Domain                      0\n",
              "Job Title                   0\n",
              "Projected Growth by 2030    0\n",
              "dtype: int64"
            ]
          },
          "execution_count": 7,
          "metadata": {},
          "output_type": "execute_result"
        }
      ],
      "source": [
        "data.isnull().sum()"
      ]
    },
    {
      "cell_type": "code",
      "execution_count": null,
      "metadata": {
        "id": "pKum9qRGu6y-",
        "outputId": "923aafec-25af-4c6d-b8b8-79379af34143"
      },
      "outputs": [
        {
          "data": {
            "text/html": [
              "<div>\n",
              "<style scoped>\n",
              "    .dataframe tbody tr th:only-of-type {\n",
              "        vertical-align: middle;\n",
              "    }\n",
              "\n",
              "    .dataframe tbody tr th {\n",
              "        vertical-align: top;\n",
              "    }\n",
              "\n",
              "    .dataframe thead th {\n",
              "        text-align: right;\n",
              "    }\n",
              "</style>\n",
              "<table border=\"1\" class=\"dataframe\">\n",
              "  <thead>\n",
              "    <tr style=\"text-align: right;\">\n",
              "      <th></th>\n",
              "      <th>Domain</th>\n",
              "      <th>Job Title</th>\n",
              "      <th>Projected Growth by 2030</th>\n",
              "    </tr>\n",
              "  </thead>\n",
              "  <tbody>\n",
              "    <tr>\n",
              "      <th>count</th>\n",
              "      <td>35677</td>\n",
              "      <td>35677</td>\n",
              "      <td>35677</td>\n",
              "    </tr>\n",
              "    <tr>\n",
              "      <th>unique</th>\n",
              "      <td>13</td>\n",
              "      <td>6</td>\n",
              "      <td>72</td>\n",
              "    </tr>\n",
              "    <tr>\n",
              "      <th>top</th>\n",
              "      <td>Cloud Computing</td>\n",
              "      <td>Analyst</td>\n",
              "      <td>77%</td>\n",
              "    </tr>\n",
              "    <tr>\n",
              "      <th>freq</th>\n",
              "      <td>2784</td>\n",
              "      <td>6037</td>\n",
              "      <td>1444</td>\n",
              "    </tr>\n",
              "  </tbody>\n",
              "</table>\n",
              "</div>"
            ],
            "text/plain": [
              "                 Domain Job Title Projected Growth by 2030\n",
              "count             35677     35677                    35677\n",
              "unique               13         6                       72\n",
              "top     Cloud Computing   Analyst                      77%\n",
              "freq               2784      6037                     1444"
            ]
          },
          "execution_count": 9,
          "metadata": {},
          "output_type": "execute_result"
        }
      ],
      "source": [
        "data.describe()"
      ]
    },
    {
      "cell_type": "code",
      "execution_count": null,
      "metadata": {
        "id": "i74dAmFqu6y_",
        "outputId": "0b677519-7a4c-4ef3-e46f-bea8ad7fb22a"
      },
      "outputs": [
        {
          "name": "stdout",
          "output_type": "stream",
          "text": [
            "<class 'pandas.core.frame.DataFrame'>\n",
            "RangeIndex: 35677 entries, 0 to 35676\n",
            "Data columns (total 3 columns):\n",
            " #   Column                    Non-Null Count  Dtype \n",
            "---  ------                    --------------  ----- \n",
            " 0   Domain                    35677 non-null  object\n",
            " 1   Job Title                 35677 non-null  object\n",
            " 2   Projected Growth by 2030  35677 non-null  object\n",
            "dtypes: object(3)\n",
            "memory usage: 836.3+ KB\n"
          ]
        }
      ],
      "source": [
        "data.info()"
      ]
    },
    {
      "cell_type": "code",
      "execution_count": null,
      "metadata": {
        "id": "3zD-r7aHu6zA"
      },
      "outputs": [],
      "source": [
        "data['Projected Growth by 2030']=pd.to_numeric(data['Projected Growth by 2030'].str.replace('%',''))"
      ]
    },
    {
      "cell_type": "code",
      "execution_count": null,
      "metadata": {
        "id": "wydTRuSau6zB",
        "outputId": "56fcdd28-f5c9-4723-92ff-d1e673fbe7e6"
      },
      "outputs": [
        {
          "name": "stdout",
          "output_type": "stream",
          "text": [
            "<class 'pandas.core.frame.DataFrame'>\n",
            "RangeIndex: 35677 entries, 0 to 35676\n",
            "Data columns (total 3 columns):\n",
            " #   Column                    Non-Null Count  Dtype \n",
            "---  ------                    --------------  ----- \n",
            " 0   Domain                    35677 non-null  object\n",
            " 1   Job Title                 35677 non-null  object\n",
            " 2   Projected Growth by 2030  35677 non-null  int64 \n",
            "dtypes: int64(1), object(2)\n",
            "memory usage: 836.3+ KB\n"
          ]
        }
      ],
      "source": [
        "data.info()"
      ]
    },
    {
      "cell_type": "markdown",
      "metadata": {
        "id": "b_4eMN_ru6zC"
      },
      "source": [
        "1. How many job titles are present for each domain?"
      ]
    },
    {
      "cell_type": "code",
      "execution_count": null,
      "metadata": {
        "id": "0XDrrwIqu6zD",
        "outputId": "5fc7833d-8468-4bb9-ec2f-66202cda3281"
      },
      "outputs": [
        {
          "name": "stdout",
          "output_type": "stream",
          "text": [
            "Domain\n",
            "5G Networks                 6\n",
            "Artificial Intelligence     6\n",
            "Augmented Reality (AR)      6\n",
            "Blockchain                  6\n",
            "Cloud Computing             6\n",
            "Cybersecurity               6\n",
            "Data Analytics              6\n",
            "DevOps                      6\n",
            "Edge Computing              6\n",
            "Internet of Things (IoT)    6\n",
            "Quantum Computing           6\n",
            "Robotics                    6\n",
            "Virtual Reality (VR)        6\n",
            "Name: Job Title, dtype: int64\n"
          ]
        }
      ],
      "source": [
        "one=data.groupby('Domain')['Job Title'].nunique()\n",
        "print(one)"
      ]
    },
    {
      "cell_type": "markdown",
      "metadata": {
        "id": "L9LSUu05u6zE"
      },
      "source": [
        "2. What is the average projected growth across all job titles?"
      ]
    },
    {
      "cell_type": "code",
      "execution_count": null,
      "metadata": {
        "id": "my6dXUCTu6zE",
        "outputId": "d56862e4-820e-464c-8bec-fe7e87af081c"
      },
      "outputs": [
        {
          "name": "stdout",
          "output_type": "stream",
          "text": [
            "Job Title\n",
            "Analyst       78.785489\n",
            "Architect     79.105450\n",
            "Consultant    78.788121\n",
            "Developer     79.359346\n",
            "Engineer      78.765766\n",
            "Manager       78.315534\n",
            "Name: Projected Growth by 2030, dtype: float64\n"
          ]
        }
      ],
      "source": [
        "second=data.groupby('Job Title')['Projected Growth by 2030'].mean()\n",
        "print(second)"
      ]
    },
    {
      "cell_type": "markdown",
      "metadata": {
        "id": "kPI-FVB8u6zF"
      },
      "source": [
        "3. Find the top 5 job titles with the highest projected growth by 2030."
      ]
    },
    {
      "cell_type": "code",
      "execution_count": null,
      "metadata": {
        "id": "5VtUOQ3vu6zG",
        "outputId": "e120d293-e56c-4c3c-a2c8-f621a44fbb2c"
      },
      "outputs": [
        {
          "name": "stdout",
          "output_type": "stream",
          "text": [
            "                         Domain   Job Title  Projected Growth by 2030\n",
            "15078  Internet of Things (IoT)   Architect                       149\n",
            "7757   Internet of Things (IoT)    Engineer                       149\n",
            "34095            Edge Computing  Consultant                       149\n",
            "5295                5G Networks     Manager                       149\n",
            "31517                  Robotics  Consultant                       149\n"
          ]
        }
      ],
      "source": [
        "third=data.sort_values(by='Projected Growth by 2030', ascending=False).head(5)\n",
        "print(third)"
      ]
    },
    {
      "cell_type": "markdown",
      "metadata": {
        "id": "zk5tRM0su6zH"
      },
      "source": [
        "4. Which domain has the highest average projected growth by 2030?"
      ]
    },
    {
      "cell_type": "code",
      "execution_count": null,
      "metadata": {
        "id": "j-XHjvzWu6zH",
        "outputId": "8b2d61a1-2023-4a22-9971-0c8f285f9d79"
      },
      "outputs": [
        {
          "name": "stdout",
          "output_type": "stream",
          "text": [
            "Developer\n"
          ]
        }
      ],
      "source": [
        "fourth=second.idxmax()\n",
        "print(fourth)"
      ]
    },
    {
      "cell_type": "markdown",
      "metadata": {
        "id": "VI84UV-Uu6zL"
      },
      "source": [
        "5. What other interesting insights can you derive from the dataset?"
      ]
    },
    {
      "cell_type": "code",
      "execution_count": null,
      "metadata": {
        "id": "YGRlK-8Iu6zM",
        "outputId": "88558984-ede9-4b6f-ccda-a7345b7071a4"
      },
      "outputs": [
        {
          "name": "stdout",
          "output_type": "stream",
          "text": [
            "Lowest Projected Growth By 2030 is Manager\n"
          ]
        }
      ],
      "source": [
        "fifth=second.idxmin()\n",
        "print(f'Lowest Projected Growth By 2030 is {fifth}')"
      ]
    }
  ],
  "metadata": {
    "kernelspec": {
      "display_name": "base",
      "language": "python",
      "name": "python3"
    },
    "language_info": {
      "codemirror_mode": {
        "name": "ipython",
        "version": 3
      },
      "file_extension": ".py",
      "mimetype": "text/x-python",
      "name": "python",
      "nbconvert_exporter": "python",
      "pygments_lexer": "ipython3",
      "version": "3.12.4"
    },
    "colab": {
      "provenance": []
    }
  },
  "nbformat": 4,
  "nbformat_minor": 0
}